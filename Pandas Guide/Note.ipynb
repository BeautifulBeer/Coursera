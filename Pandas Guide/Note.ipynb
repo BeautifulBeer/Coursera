{
 "cells": [
  {
   "cell_type": "code",
   "execution_count": 1,
   "metadata": {},
   "outputs": [],
   "source": [
    "import pandas as pd\n",
    "import numpy as np"
   ]
  },
  {
   "cell_type": "code",
   "execution_count": 2,
   "metadata": {},
   "outputs": [
    {
     "name": "stdout",
     "output_type": "stream",
     "text": [
      "0           1111\n",
      "1        1.24542\n",
      "2    Example!!!!\n",
      "dtype: object\n"
     ]
    }
   ],
   "source": [
    "# Pandas Series : One-dimensional ndarray with axis labels, == Column\n",
    "\n",
    "# passing array\n",
    "s = pd.Series([1111, 1.24542, 'Example!!!!'])\n",
    "print(s)"
   ]
  },
  {
   "cell_type": "code",
   "execution_count": 3,
   "metadata": {},
   "outputs": [
    {
     "name": "stdout",
     "output_type": "stream",
     "text": [
      "A    1\n",
      "B    2\n",
      "C    3\n",
      "dtype: int64\n"
     ]
    }
   ],
   "source": [
    "# passing dictionary\n",
    "s = pd.Series({'A':1, 'B':2, 'C':3})\n",
    "print(s)"
   ]
  },
  {
   "cell_type": "code",
   "execution_count": 4,
   "metadata": {},
   "outputs": [
    {
     "name": "stdout",
     "output_type": "stream",
     "text": [
      "          0         1         2         3         4\n",
      "0 -0.541069  0.112103 -0.925771  0.713033 -2.597098\n",
      "1  1.128387 -1.932126  2.391212 -0.024128 -0.565479\n",
      "2  0.082966 -0.544895  0.057184  0.818047  0.191551\n",
      "3  0.699847  0.084577 -0.074643 -0.216888  2.258223\n",
      "4 -0.154463  0.490667  0.461094 -1.254975 -0.141539\n"
     ]
    }
   ],
   "source": [
    "# Pandas DataFrame : Two-dimensional, size-mutable, potentially heterogeneous tabular data.\n",
    "\n",
    "# passing numpy array\n",
    "df = pd.DataFrame(np.random.randn(5,5))\n",
    "print(df)"
   ]
  },
  {
   "cell_type": "code",
   "execution_count": 5,
   "metadata": {},
   "outputs": [
    {
     "name": "stdout",
     "output_type": "stream",
     "text": [
      "   A  B  C\n",
      "0  1  6  1\n",
      "1  1  6  2\n",
      "2  1  6  3\n",
      "3  1  6  4\n",
      "4  1  6  5\n"
     ]
    }
   ],
   "source": [
    "# passing dictionary of objects\n",
    "df = pd.DataFrame({\n",
    "    'A' : 1,\n",
    "    'B' : np.array([6] * 5, dtype=np.int32),\n",
    "    'C' : np.array([1,2,3,4,5], dtype=np.int32),\n",
    "})\n",
    "print(df)"
   ]
  },
  {
   "cell_type": "code",
   "execution_count": 6,
   "metadata": {},
   "outputs": [
    {
     "name": "stdout",
     "output_type": "stream",
     "text": [
      "      A     B       C\n",
      "0  1122  3252    2325\n",
      "1  1122  3252   23335\n",
      "2  1122  3252    1115\n",
      "3  1122  3252   67325\n",
      "4  1122  3252   52325\n",
      "5  1122  3252  682325\n",
      "6  1122  3252  122325\n",
      "7  1122  3252  262325\n",
      "8  1122  3252  672325\n"
     ]
    }
   ],
   "source": [
    "# load csv, json from existing file\n",
    "# JSON\n",
    "df = pd.read_json(\"example.json\")\n",
    "print(df)"
   ]
  },
  {
   "cell_type": "code",
   "execution_count": 7,
   "metadata": {},
   "outputs": [
    {
     "name": "stdout",
     "output_type": "stream",
     "text": [
      "      A       B     C     D\n",
      "0  1124    5345  5464    23\n",
      "1   456     536  3462  1234\n",
      "2    35  234523   452   234\n"
     ]
    }
   ],
   "source": [
    "# CSV\n",
    "df = pd.read_csv(\"example.csv\")\n",
    "print(df)"
   ]
  },
  {
   "cell_type": "code",
   "execution_count": 8,
   "metadata": {},
   "outputs": [],
   "source": [
    "# export csv, json from dataframe\n",
    "df = pd.DataFrame(np.random.randn(5,5))\n",
    "df.to_csv(\"example2.csv\")\n",
    "df.to_json(\"example2.json\")"
   ]
  },
  {
   "cell_type": "code",
   "execution_count": 10,
   "metadata": {},
   "outputs": [
    {
     "name": "stdout",
     "output_type": "stream",
     "text": [
      "<class 'pandas.core.frame.DataFrame'>\n",
      "RangeIndex: 5 entries, 0 to 4\n",
      "Data columns (total 5 columns):\n",
      " #   Column  Non-Null Count  Dtype  \n",
      "---  ------  --------------  -----  \n",
      " 0   0       5 non-null      float64\n",
      " 1   1       5 non-null      float64\n",
      " 2   2       5 non-null      float64\n",
      " 3   3       5 non-null      float64\n",
      " 4   4       5 non-null      float64\n",
      "dtypes: float64(5)\n",
      "memory usage: 328.0 bytes\n"
     ]
    }
   ],
   "source": [
    "# summary data\n",
    "df.info()"
   ]
  },
  {
   "cell_type": "code",
   "execution_count": 11,
   "metadata": {},
   "outputs": [
    {
     "data": {
      "text/html": [
       "<div>\n",
       "<style scoped>\n",
       "    .dataframe tbody tr th:only-of-type {\n",
       "        vertical-align: middle;\n",
       "    }\n",
       "\n",
       "    .dataframe tbody tr th {\n",
       "        vertical-align: top;\n",
       "    }\n",
       "\n",
       "    .dataframe thead th {\n",
       "        text-align: right;\n",
       "    }\n",
       "</style>\n",
       "<table border=\"1\" class=\"dataframe\">\n",
       "  <thead>\n",
       "    <tr style=\"text-align: right;\">\n",
       "      <th></th>\n",
       "      <th>0</th>\n",
       "      <th>1</th>\n",
       "      <th>2</th>\n",
       "      <th>3</th>\n",
       "      <th>4</th>\n",
       "    </tr>\n",
       "  </thead>\n",
       "  <tbody>\n",
       "    <tr>\n",
       "      <th>count</th>\n",
       "      <td>5.000000</td>\n",
       "      <td>5.000000</td>\n",
       "      <td>5.000000</td>\n",
       "      <td>5.000000</td>\n",
       "      <td>5.000000</td>\n",
       "    </tr>\n",
       "    <tr>\n",
       "      <th>mean</th>\n",
       "      <td>-0.354222</td>\n",
       "      <td>0.191799</td>\n",
       "      <td>-0.715222</td>\n",
       "      <td>0.150651</td>\n",
       "      <td>0.129677</td>\n",
       "    </tr>\n",
       "    <tr>\n",
       "      <th>std</th>\n",
       "      <td>0.359859</td>\n",
       "      <td>0.768050</td>\n",
       "      <td>0.398630</td>\n",
       "      <td>0.934890</td>\n",
       "      <td>0.257093</td>\n",
       "    </tr>\n",
       "    <tr>\n",
       "      <th>min</th>\n",
       "      <td>-0.670242</td>\n",
       "      <td>-0.613166</td>\n",
       "      <td>-1.408140</td>\n",
       "      <td>-0.914774</td>\n",
       "      <td>-0.154001</td>\n",
       "    </tr>\n",
       "    <tr>\n",
       "      <th>25%</th>\n",
       "      <td>-0.647958</td>\n",
       "      <td>-0.356138</td>\n",
       "      <td>-0.646457</td>\n",
       "      <td>-0.472536</td>\n",
       "      <td>-0.070156</td>\n",
       "    </tr>\n",
       "    <tr>\n",
       "      <th>50%</th>\n",
       "      <td>-0.463842</td>\n",
       "      <td>-0.080452</td>\n",
       "      <td>-0.602133</td>\n",
       "      <td>-0.087595</td>\n",
       "      <td>0.122736</td>\n",
       "    </tr>\n",
       "    <tr>\n",
       "      <th>75%</th>\n",
       "      <td>-0.169288</td>\n",
       "      <td>0.912956</td>\n",
       "      <td>-0.520423</td>\n",
       "      <td>0.941699</td>\n",
       "      <td>0.266136</td>\n",
       "    </tr>\n",
       "    <tr>\n",
       "      <th>max</th>\n",
       "      <td>0.180220</td>\n",
       "      <td>1.095797</td>\n",
       "      <td>-0.398956</td>\n",
       "      <td>1.286461</td>\n",
       "      <td>0.483670</td>\n",
       "    </tr>\n",
       "  </tbody>\n",
       "</table>\n",
       "</div>"
      ],
      "text/plain": [
       "              0         1         2         3         4\n",
       "count  5.000000  5.000000  5.000000  5.000000  5.000000\n",
       "mean  -0.354222  0.191799 -0.715222  0.150651  0.129677\n",
       "std    0.359859  0.768050  0.398630  0.934890  0.257093\n",
       "min   -0.670242 -0.613166 -1.408140 -0.914774 -0.154001\n",
       "25%   -0.647958 -0.356138 -0.646457 -0.472536 -0.070156\n",
       "50%   -0.463842 -0.080452 -0.602133 -0.087595  0.122736\n",
       "75%   -0.169288  0.912956 -0.520423  0.941699  0.266136\n",
       "max    0.180220  1.095797 -0.398956  1.286461  0.483670"
      ]
     },
     "execution_count": 11,
     "metadata": {},
     "output_type": "execute_result"
    }
   ],
   "source": [
    "df.describe()"
   ]
  },
  {
   "cell_type": "code",
   "execution_count": 13,
   "metadata": {},
   "outputs": [
    {
     "name": "stdout",
     "output_type": "stream",
     "text": [
      "RangeIndex(start=0, stop=5, step=1)\n"
     ]
    }
   ],
   "source": [
    "# see columns\n",
    "print(df.columns)"
   ]
  },
  {
   "cell_type": "code",
   "execution_count": 14,
   "metadata": {},
   "outputs": [
    {
     "name": "stdout",
     "output_type": "stream",
     "text": [
      "0    float64\n",
      "1    float64\n",
      "2    float64\n",
      "3    float64\n",
      "4    float64\n",
      "dtype: object\n"
     ]
    }
   ],
   "source": [
    "# see data types\n",
    "print(df.dtypes)"
   ]
  },
  {
   "cell_type": "code",
   "execution_count": 16,
   "metadata": {},
   "outputs": [
    {
     "data": {
      "text/html": [
       "<div>\n",
       "<style scoped>\n",
       "    .dataframe tbody tr th:only-of-type {\n",
       "        vertical-align: middle;\n",
       "    }\n",
       "\n",
       "    .dataframe tbody tr th {\n",
       "        vertical-align: top;\n",
       "    }\n",
       "\n",
       "    .dataframe thead th {\n",
       "        text-align: right;\n",
       "    }\n",
       "</style>\n",
       "<table border=\"1\" class=\"dataframe\">\n",
       "  <thead>\n",
       "    <tr style=\"text-align: right;\">\n",
       "      <th></th>\n",
       "      <th>0</th>\n",
       "      <th>1</th>\n",
       "      <th>2</th>\n",
       "      <th>3</th>\n",
       "      <th>4</th>\n",
       "    </tr>\n",
       "  </thead>\n",
       "  <tbody>\n",
       "    <tr>\n",
       "      <th>0</th>\n",
       "      <td>-0.169288</td>\n",
       "      <td>-0.080452</td>\n",
       "      <td>-1.408140</td>\n",
       "      <td>-0.914774</td>\n",
       "      <td>-0.070156</td>\n",
       "    </tr>\n",
       "    <tr>\n",
       "      <th>1</th>\n",
       "      <td>-0.463842</td>\n",
       "      <td>-0.356138</td>\n",
       "      <td>-0.520423</td>\n",
       "      <td>0.941699</td>\n",
       "      <td>0.266136</td>\n",
       "    </tr>\n",
       "    <tr>\n",
       "      <th>2</th>\n",
       "      <td>0.180220</td>\n",
       "      <td>0.912956</td>\n",
       "      <td>-0.602133</td>\n",
       "      <td>-0.472536</td>\n",
       "      <td>0.122736</td>\n",
       "    </tr>\n",
       "    <tr>\n",
       "      <th>3</th>\n",
       "      <td>-0.670242</td>\n",
       "      <td>-0.613166</td>\n",
       "      <td>-0.646457</td>\n",
       "      <td>-0.087595</td>\n",
       "      <td>0.483670</td>\n",
       "    </tr>\n",
       "    <tr>\n",
       "      <th>4</th>\n",
       "      <td>-0.647958</td>\n",
       "      <td>1.095797</td>\n",
       "      <td>-0.398956</td>\n",
       "      <td>1.286461</td>\n",
       "      <td>-0.154001</td>\n",
       "    </tr>\n",
       "  </tbody>\n",
       "</table>\n",
       "</div>"
      ],
      "text/plain": [
       "          0         1         2         3         4\n",
       "0 -0.169288 -0.080452 -1.408140 -0.914774 -0.070156\n",
       "1 -0.463842 -0.356138 -0.520423  0.941699  0.266136\n",
       "2  0.180220  0.912956 -0.602133 -0.472536  0.122736\n",
       "3 -0.670242 -0.613166 -0.646457 -0.087595  0.483670\n",
       "4 -0.647958  1.095797 -0.398956  1.286461 -0.154001"
      ]
     },
     "execution_count": 16,
     "metadata": {},
     "output_type": "execute_result"
    }
   ],
   "source": [
    "# check duplication\n",
    "df.duplicated()\n",
    "# drop duplicated rows\n",
    "df.drop_duplicates()"
   ]
  },
  {
   "cell_type": "code",
   "execution_count": 17,
   "metadata": {},
   "outputs": [
    {
     "data": {
      "text/plain": [
       "0    0\n",
       "1    0\n",
       "2    0\n",
       "3    0\n",
       "4    0\n",
       "dtype: int64"
      ]
     },
     "execution_count": 17,
     "metadata": {},
     "output_type": "execute_result"
    }
   ],
   "source": [
    "# check null values\n",
    "df.isnull().sum()"
   ]
  },
  {
   "cell_type": "code",
   "execution_count": 18,
   "metadata": {},
   "outputs": [
    {
     "data": {
      "text/html": [
       "<div>\n",
       "<style scoped>\n",
       "    .dataframe tbody tr th:only-of-type {\n",
       "        vertical-align: middle;\n",
       "    }\n",
       "\n",
       "    .dataframe tbody tr th {\n",
       "        vertical-align: top;\n",
       "    }\n",
       "\n",
       "    .dataframe thead th {\n",
       "        text-align: right;\n",
       "    }\n",
       "</style>\n",
       "<table border=\"1\" class=\"dataframe\">\n",
       "  <thead>\n",
       "    <tr style=\"text-align: right;\">\n",
       "      <th></th>\n",
       "      <th>0</th>\n",
       "      <th>1</th>\n",
       "      <th>2</th>\n",
       "      <th>3</th>\n",
       "      <th>4</th>\n",
       "    </tr>\n",
       "  </thead>\n",
       "  <tbody>\n",
       "    <tr>\n",
       "      <th>0</th>\n",
       "      <td>-0.169288</td>\n",
       "      <td>-0.080452</td>\n",
       "      <td>-1.408140</td>\n",
       "      <td>-0.914774</td>\n",
       "      <td>-0.070156</td>\n",
       "    </tr>\n",
       "    <tr>\n",
       "      <th>1</th>\n",
       "      <td>-0.463842</td>\n",
       "      <td>-0.356138</td>\n",
       "      <td>-0.520423</td>\n",
       "      <td>0.941699</td>\n",
       "      <td>0.266136</td>\n",
       "    </tr>\n",
       "    <tr>\n",
       "      <th>2</th>\n",
       "      <td>0.180220</td>\n",
       "      <td>0.912956</td>\n",
       "      <td>-0.602133</td>\n",
       "      <td>-0.472536</td>\n",
       "      <td>0.122736</td>\n",
       "    </tr>\n",
       "    <tr>\n",
       "      <th>3</th>\n",
       "      <td>-0.670242</td>\n",
       "      <td>-0.613166</td>\n",
       "      <td>-0.646457</td>\n",
       "      <td>-0.087595</td>\n",
       "      <td>0.483670</td>\n",
       "    </tr>\n",
       "    <tr>\n",
       "      <th>4</th>\n",
       "      <td>-0.647958</td>\n",
       "      <td>1.095797</td>\n",
       "      <td>-0.398956</td>\n",
       "      <td>1.286461</td>\n",
       "      <td>-0.154001</td>\n",
       "    </tr>\n",
       "  </tbody>\n",
       "</table>\n",
       "</div>"
      ],
      "text/plain": [
       "          0         1         2         3         4\n",
       "0 -0.169288 -0.080452 -1.408140 -0.914774 -0.070156\n",
       "1 -0.463842 -0.356138 -0.520423  0.941699  0.266136\n",
       "2  0.180220  0.912956 -0.602133 -0.472536  0.122736\n",
       "3 -0.670242 -0.613166 -0.646457 -0.087595  0.483670\n",
       "4 -0.647958  1.095797 -0.398956  1.286461 -0.154001"
      ]
     },
     "execution_count": 18,
     "metadata": {},
     "output_type": "execute_result"
    }
   ],
   "source": [
    "# drop rows contained null values\n",
    "df.dropna()"
   ]
  },
  {
   "cell_type": "code",
   "execution_count": 19,
   "metadata": {},
   "outputs": [
    {
     "data": {
      "text/plain": [
       "0   -0.354222\n",
       "1    0.191799\n",
       "2   -0.715222\n",
       "3    0.150651\n",
       "4    0.129677\n",
       "dtype: float64"
      ]
     },
     "execution_count": 19,
     "metadata": {},
     "output_type": "execute_result"
    }
   ],
   "source": [
    "# mean for Series\n",
    "df.mean()"
   ]
  },
  {
   "cell_type": "code",
   "execution_count": 20,
   "metadata": {},
   "outputs": [
    {
     "data": {
      "text/html": [
       "<div>\n",
       "<style scoped>\n",
       "    .dataframe tbody tr th:only-of-type {\n",
       "        vertical-align: middle;\n",
       "    }\n",
       "\n",
       "    .dataframe tbody tr th {\n",
       "        vertical-align: top;\n",
       "    }\n",
       "\n",
       "    .dataframe thead th {\n",
       "        text-align: right;\n",
       "    }\n",
       "</style>\n",
       "<table border=\"1\" class=\"dataframe\">\n",
       "  <thead>\n",
       "    <tr style=\"text-align: right;\">\n",
       "      <th></th>\n",
       "      <th>0</th>\n",
       "      <th>1</th>\n",
       "      <th>2</th>\n",
       "      <th>3</th>\n",
       "      <th>4</th>\n",
       "    </tr>\n",
       "  </thead>\n",
       "  <tbody>\n",
       "    <tr>\n",
       "      <th>0</th>\n",
       "      <td>-0.169288</td>\n",
       "      <td>-0.080452</td>\n",
       "      <td>-1.408140</td>\n",
       "      <td>-0.914774</td>\n",
       "      <td>-0.070156</td>\n",
       "    </tr>\n",
       "    <tr>\n",
       "      <th>1</th>\n",
       "      <td>-0.633130</td>\n",
       "      <td>-0.436591</td>\n",
       "      <td>-1.928563</td>\n",
       "      <td>0.026924</td>\n",
       "      <td>0.195980</td>\n",
       "    </tr>\n",
       "    <tr>\n",
       "      <th>2</th>\n",
       "      <td>-0.452910</td>\n",
       "      <td>0.476365</td>\n",
       "      <td>-2.530696</td>\n",
       "      <td>-0.445612</td>\n",
       "      <td>0.318715</td>\n",
       "    </tr>\n",
       "    <tr>\n",
       "      <th>3</th>\n",
       "      <td>-1.123152</td>\n",
       "      <td>-0.136801</td>\n",
       "      <td>-3.177153</td>\n",
       "      <td>-0.533207</td>\n",
       "      <td>0.802385</td>\n",
       "    </tr>\n",
       "    <tr>\n",
       "      <th>4</th>\n",
       "      <td>-1.771110</td>\n",
       "      <td>0.958995</td>\n",
       "      <td>-3.576110</td>\n",
       "      <td>0.753255</td>\n",
       "      <td>0.648384</td>\n",
       "    </tr>\n",
       "  </tbody>\n",
       "</table>\n",
       "</div>"
      ],
      "text/plain": [
       "          0         1         2         3         4\n",
       "0 -0.169288 -0.080452 -1.408140 -0.914774 -0.070156\n",
       "1 -0.633130 -0.436591 -1.928563  0.026924  0.195980\n",
       "2 -0.452910  0.476365 -2.530696 -0.445612  0.318715\n",
       "3 -1.123152 -0.136801 -3.177153 -0.533207  0.802385\n",
       "4 -1.771110  0.958995 -3.576110  0.753255  0.648384"
      ]
     },
     "execution_count": 20,
     "metadata": {},
     "output_type": "execute_result"
    }
   ],
   "source": [
    "# cumulative sum using numpy operation\n",
    "df.apply(np.cumsum)"
   ]
  },
  {
   "cell_type": "code",
   "execution_count": 21,
   "metadata": {},
   "outputs": [
    {
     "name": "stdout",
     "output_type": "stream",
     "text": [
      "0    0.180220\n",
      "1    1.095797\n",
      "2   -0.398956\n",
      "3    1.286461\n",
      "4    0.483670\n",
      "dtype: float64\n",
      "0   -0.670242\n",
      "1   -0.613166\n",
      "2   -1.408140\n",
      "3   -0.914774\n",
      "4   -0.154001\n",
      "dtype: float64\n"
     ]
    }
   ],
   "source": [
    "# get min, max\n",
    "print(df.max())\n",
    "print('-----------------------------------')\n",
    "print(df.min())"
   ]
  },
  {
   "cell_type": "code",
   "execution_count": 30,
   "metadata": {},
   "outputs": [
    {
     "data": {
      "text/plain": [
       "0              America\n",
       "1    Republic Of Korea\n",
       "2                India\n",
       "3              america\n",
       "dtype: object"
      ]
     },
     "execution_count": 30,
     "metadata": {},
     "output_type": "execute_result"
    }
   ],
   "source": [
    "strings = np.array(['America', 'Republic Of Korea', 'India', 'america'])\n",
    "strings = pd.Series(strings)\n",
    "strings"
   ]
  },
  {
   "cell_type": "code",
   "execution_count": 37,
   "metadata": {},
   "outputs": [
    {
     "name": "stdout",
     "output_type": "stream",
     "text": [
      "0              america\n",
      "1    republic of korea\n",
      "2                india\n",
      "3              america\n",
      "dtype: object\n",
      "-----------------------------------\n",
      "0              AMERICA\n",
      "1    REPUBLIC OF KOREA\n",
      "2                INDIA\n",
      "3              AMERICA\n",
      "dtype: object\n",
      "-----------------------------------\n",
      "0              aMERICA\n",
      "1    rEPUBLIC oF kOREA\n",
      "2                iNDIA\n",
      "3              AMERICA\n",
      "dtype: object\n",
      "-----------------------------------\n",
      "0     7\n",
      "1    17\n",
      "2     5\n",
      "3     7\n",
      "dtype: int64\n",
      "-----------------------------------\n",
      "0                [America]\n",
      "1    [Republic, Of, Korea]\n",
      "2                  [India]\n",
      "3                [america]\n",
      "dtype: object\n",
      "-----------------------------------\n",
      "['America' 'Republic Of Korea' 'India' 'america']\n",
      "-----------------------------------\n"
     ]
    },
    {
     "data": {
      "text/plain": [
       "0                               America\n",
       "1    Republic Of KoreaRepublic Of Korea\n",
       "2                       IndiaIndiaIndia\n",
       "3          americaamericaamericaamerica\n",
       "dtype: object"
      ]
     },
     "execution_count": 37,
     "metadata": {},
     "output_type": "execute_result"
    }
   ],
   "source": [
    "## String\n",
    "# to lower case\n",
    "print(strings.str.lower())\n",
    "print('-----------------------------------')\n",
    "# to upper case\n",
    "print(strings.str.upper())\n",
    "print('-----------------------------------')\n",
    "# swapcase\n",
    "print(strings.str.swapcase())\n",
    "print('-----------------------------------')\n",
    "# get length\n",
    "print(strings.str.len())\n",
    "print('-----------------------------------')\n",
    "# split string\n",
    "print(strings.str.split())\n",
    "print('-----------------------------------')\n",
    "# unique values\n",
    "print(strings.unique())\n",
    "print('-----------------------------------')\n",
    "# repeart values\n",
    "repeats = [1, 2, 3, 4]\n",
    "strings.str.repeat(repeats)\n",
    "print('-----------------------------------')"
   ]
  },
  {
   "cell_type": "code",
   "execution_count": null,
   "metadata": {},
   "outputs": [],
   "source": []
  }
 ],
 "metadata": {
  "kernelspec": {
   "display_name": "Python 3",
   "language": "python",
   "name": "python3"
  },
  "language_info": {
   "codemirror_mode": {
    "name": "ipython",
    "version": 3
   },
   "file_extension": ".py",
   "mimetype": "text/x-python",
   "name": "python",
   "nbconvert_exporter": "python",
   "pygments_lexer": "ipython3",
   "version": "3.6.10"
  }
 },
 "nbformat": 4,
 "nbformat_minor": 4
}
